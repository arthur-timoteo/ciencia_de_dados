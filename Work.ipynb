{
  "nbformat": 4,
  "nbformat_minor": 0,
  "metadata": {
    "colab": {
      "name": "Work.ipynb",
      "provenance": [],
      "collapsed_sections": []
    },
    "kernelspec": {
      "name": "python3",
      "display_name": "Python 3"
    },
    "language_info": {
      "name": "python"
    }
  },
  "cells": [
    {
      "cell_type": "markdown",
      "metadata": {
        "id": "2c291yytbHGO"
      },
      "source": [
        "# Análise CSGO Competitive Matchmaking Data"
      ]
    },
    {
      "cell_type": "markdown",
      "metadata": {
        "id": "Pmyv3DpIaRj7"
      },
      "source": [
        "## 1 Leitura dos dados com pandas"
      ]
    },
    {
      "cell_type": "code",
      "metadata": {
        "id": "eZ9URA2x8xpv"
      },
      "source": [
        "import pandas as pd"
      ],
      "execution_count": null,
      "outputs": []
    },
    {
      "cell_type": "code",
      "metadata": {
        "id": "ZfQlxv1WQ9xA"
      },
      "source": [
        "csgo = pd.read_csv(\"https://raw.githubusercontent.com/arthur-timoteo/ciencia_de_dados/main/dados/esea_meta_demos.part1.csv\",sep =',',encoding='ISO-8859-1', header=0)"
      ],
      "execution_count": null,
      "outputs": []
    },
    {
      "cell_type": "markdown",
      "metadata": {
        "id": "O0f1lOw-aYQa"
      },
      "source": [
        "## 2 Manipulação e limpeza de dados com pandas"
      ]
    },
    {
      "cell_type": "code",
      "metadata": {
        "id": "5KiIJ_XrSMiR"
      },
      "source": [
        "csgo = csgo.drop(['file'], axis=1)\n",
        "csgo.rename(columns={'map': 'mapa', 'start_seconds': 'inicio_segundos', 'end_seconds': 'fim_segundos', 'winner_team': 'time_vencedor', 'winner_side': 'lado_vencedor', 'round_type': 'round_tipo', 'ct_eq_val': '$CounterTerrorist', 't_eq_val': '$Terrorist'}, inplace=True)\n",
        "csgo = csgo[(csgo['time_vencedor'] != 'Team 1') & (csgo['time_vencedor'] != 'Team 2') & (csgo['time_vencedor'] != '--to be determined--')]\n",
        "\n",
        "csgo['mapa'] = pd.to_numeric(csgo['mapa'].map({'de_overpass': 0, 'de_dust2': 1, 'de_cache': 2, 'de_train': 3, 'de_mirage': 4, 'de_nuke': 5}))\n",
        "csgo['lado_vencedor'] = pd.to_numeric(csgo['lado_vencedor'].map({'Terrorist': 0, 'CounterTerrorist': 1}))\n",
        "csgo['round_tipo'] = pd.to_numeric(csgo['round_tipo'].map({'PISTOL_ROUND': 0, 'SEMI_ECO': 1,'ECO': 2, 'NORMAL': 3}))\n",
        "\n",
        "csgo = csgo.dropna()"
      ],
      "execution_count": null,
      "outputs": []
    },
    {
      "cell_type": "markdown",
      "metadata": {
        "id": "o1eyYiF8aj5Y"
      },
      "source": [
        "## 3 Descritivo e exploração de dados com pandas (groupby)"
      ]
    },
    {
      "cell_type": "code",
      "metadata": {
        "colab": {
          "base_uri": "https://localhost:8080/",
          "height": 226
        },
        "id": "hYlVLwPZah0p",
        "outputId": "b24b23b4-2a3e-4730-e156-33bd9027b180"
      },
      "source": [
        "csgo.head()"
      ],
      "execution_count": null,
      "outputs": [
        {
          "output_type": "execute_result",
          "data": {
            "text/html": [
              "<div>\n",
              "<style scoped>\n",
              "    .dataframe tbody tr th:only-of-type {\n",
              "        vertical-align: middle;\n",
              "    }\n",
              "\n",
              "    .dataframe tbody tr th {\n",
              "        vertical-align: top;\n",
              "    }\n",
              "\n",
              "    .dataframe thead th {\n",
              "        text-align: right;\n",
              "    }\n",
              "</style>\n",
              "<table border=\"1\" class=\"dataframe\">\n",
              "  <thead>\n",
              "    <tr style=\"text-align: right;\">\n",
              "      <th></th>\n",
              "      <th>mapa</th>\n",
              "      <th>round</th>\n",
              "      <th>inicio_segundos</th>\n",
              "      <th>fim_segundos</th>\n",
              "      <th>time_vencedor</th>\n",
              "      <th>lado_vencedor</th>\n",
              "      <th>round_tipo</th>\n",
              "      <th>$CounterTerrorist</th>\n",
              "      <th>$Terrorist</th>\n",
              "    </tr>\n",
              "  </thead>\n",
              "  <tbody>\n",
              "    <tr>\n",
              "      <th>0</th>\n",
              "      <td>0</td>\n",
              "      <td>1</td>\n",
              "      <td>94.30782</td>\n",
              "      <td>160.9591</td>\n",
              "      <td>Hentai Hooligans</td>\n",
              "      <td>0.0</td>\n",
              "      <td>0.0</td>\n",
              "      <td>4300</td>\n",
              "      <td>4250</td>\n",
              "    </tr>\n",
              "    <tr>\n",
              "      <th>1</th>\n",
              "      <td>0</td>\n",
              "      <td>2</td>\n",
              "      <td>160.95910</td>\n",
              "      <td>279.3998</td>\n",
              "      <td>Hentai Hooligans</td>\n",
              "      <td>0.0</td>\n",
              "      <td>2.0</td>\n",
              "      <td>6300</td>\n",
              "      <td>19400</td>\n",
              "    </tr>\n",
              "    <tr>\n",
              "      <th>2</th>\n",
              "      <td>0</td>\n",
              "      <td>3</td>\n",
              "      <td>279.39980</td>\n",
              "      <td>341.0084</td>\n",
              "      <td>Hentai Hooligans</td>\n",
              "      <td>0.0</td>\n",
              "      <td>1.0</td>\n",
              "      <td>7650</td>\n",
              "      <td>19250</td>\n",
              "    </tr>\n",
              "    <tr>\n",
              "      <th>3</th>\n",
              "      <td>0</td>\n",
              "      <td>4</td>\n",
              "      <td>341.00840</td>\n",
              "      <td>435.4259</td>\n",
              "      <td>Hentai Hooligans</td>\n",
              "      <td>0.0</td>\n",
              "      <td>3.0</td>\n",
              "      <td>24900</td>\n",
              "      <td>23400</td>\n",
              "    </tr>\n",
              "    <tr>\n",
              "      <th>4</th>\n",
              "      <td>0</td>\n",
              "      <td>5</td>\n",
              "      <td>435.42590</td>\n",
              "      <td>484.2398</td>\n",
              "      <td>Animal Style</td>\n",
              "      <td>1.0</td>\n",
              "      <td>2.0</td>\n",
              "      <td>5400</td>\n",
              "      <td>20550</td>\n",
              "    </tr>\n",
              "  </tbody>\n",
              "</table>\n",
              "</div>"
            ],
            "text/plain": [
              "   mapa  round  inicio_segundos  ...  round_tipo $CounterTerrorist  $Terrorist\n",
              "0     0      1         94.30782  ...         0.0              4300        4250\n",
              "1     0      2        160.95910  ...         2.0              6300       19400\n",
              "2     0      3        279.39980  ...         1.0              7650       19250\n",
              "3     0      4        341.00840  ...         3.0             24900       23400\n",
              "4     0      5        435.42590  ...         2.0              5400       20550\n",
              "\n",
              "[5 rows x 9 columns]"
            ]
          },
          "metadata": {},
          "execution_count": 716
        }
      ]
    },
    {
      "cell_type": "code",
      "metadata": {
        "colab": {
          "base_uri": "https://localhost:8080/"
        },
        "id": "HkYqfeyEpGn8",
        "outputId": "6c123d03-2521-4eca-a30c-e80554dcc2bb"
      },
      "source": [
        "csgo.info()"
      ],
      "execution_count": null,
      "outputs": [
        {
          "output_type": "stream",
          "name": "stdout",
          "text": [
            "<class 'pandas.core.frame.DataFrame'>\n",
            "Int64Index: 349 entries, 0 to 142478\n",
            "Data columns (total 9 columns):\n",
            " #   Column             Non-Null Count  Dtype  \n",
            "---  ------             --------------  -----  \n",
            " 0   mapa               349 non-null    int64  \n",
            " 1   round              349 non-null    int64  \n",
            " 2   inicio_segundos    349 non-null    float64\n",
            " 3   fim_segundos       349 non-null    float64\n",
            " 4   time_vencedor      349 non-null    object \n",
            " 5   lado_vencedor      349 non-null    float64\n",
            " 6   round_tipo         349 non-null    float64\n",
            " 7   $CounterTerrorist  349 non-null    int64  \n",
            " 8   $Terrorist         349 non-null    int64  \n",
            "dtypes: float64(4), int64(4), object(1)\n",
            "memory usage: 27.3+ KB\n"
          ]
        }
      ]
    },
    {
      "cell_type": "code",
      "metadata": {
        "colab": {
          "base_uri": "https://localhost:8080/"
        },
        "id": "Yojuw9YqpJiC",
        "outputId": "b78222a7-abd9-4f90-d199-b6985476649a"
      },
      "source": [
        "csgo.shape"
      ],
      "execution_count": null,
      "outputs": [
        {
          "output_type": "execute_result",
          "data": {
            "text/plain": [
              "(349, 9)"
            ]
          },
          "metadata": {},
          "execution_count": 718
        }
      ]
    },
    {
      "cell_type": "code",
      "metadata": {
        "colab": {
          "base_uri": "https://localhost:8080/"
        },
        "id": "cl6dK2HJpSES",
        "outputId": "50521f6b-bde7-4a13-d05f-886f8c7f57cb"
      },
      "source": [
        "csgo.columns"
      ],
      "execution_count": null,
      "outputs": [
        {
          "output_type": "execute_result",
          "data": {
            "text/plain": [
              "Index(['mapa', 'round', 'inicio_segundos', 'fim_segundos', 'time_vencedor',\n",
              "       'lado_vencedor', 'round_tipo', '$CounterTerrorist', '$Terrorist'],\n",
              "      dtype='object')"
            ]
          },
          "metadata": {},
          "execution_count": 719
        }
      ]
    },
    {
      "cell_type": "markdown",
      "metadata": {
        "id": "ig8rniWoO1uL"
      },
      "source": [
        "### Listagem dos times e a quantidade de Rounds vencidos"
      ]
    },
    {
      "cell_type": "code",
      "metadata": {
        "colab": {
          "base_uri": "https://localhost:8080/",
          "height": 457
        },
        "id": "RdztE_nlsb6I",
        "outputId": "fbd2a283-aaa8-4026-d7d1-46ff8b15d111"
      },
      "source": [
        "csgo.groupby(['time_vencedor'])['round'].count().to_frame().reset_index().sort_values(by='time_vencedor')"
      ],
      "execution_count": null,
      "outputs": [
        {
          "output_type": "execute_result",
          "data": {
            "text/html": [
              "<div>\n",
              "<style scoped>\n",
              "    .dataframe tbody tr th:only-of-type {\n",
              "        vertical-align: middle;\n",
              "    }\n",
              "\n",
              "    .dataframe tbody tr th {\n",
              "        vertical-align: top;\n",
              "    }\n",
              "\n",
              "    .dataframe thead th {\n",
              "        text-align: right;\n",
              "    }\n",
              "</style>\n",
              "<table border=\"1\" class=\"dataframe\">\n",
              "  <thead>\n",
              "    <tr style=\"text-align: right;\">\n",
              "      <th></th>\n",
              "      <th>time_vencedor</th>\n",
              "      <th>round</th>\n",
              "    </tr>\n",
              "  </thead>\n",
              "  <tbody>\n",
              "    <tr>\n",
              "      <th>0</th>\n",
              "      <td>AGO Esports</td>\n",
              "      <td>28</td>\n",
              "    </tr>\n",
              "    <tr>\n",
              "      <th>1</th>\n",
              "      <td>ALTERNATE aTTaX</td>\n",
              "      <td>14</td>\n",
              "    </tr>\n",
              "    <tr>\n",
              "      <th>2</th>\n",
              "      <td>Animal Style</td>\n",
              "      <td>8</td>\n",
              "    </tr>\n",
              "    <tr>\n",
              "      <th>3</th>\n",
              "      <td>EURONICS Gaming</td>\n",
              "      <td>32</td>\n",
              "    </tr>\n",
              "    <tr>\n",
              "      <th>4</th>\n",
              "      <td>Endpoint</td>\n",
              "      <td>30</td>\n",
              "    </tr>\n",
              "    <tr>\n",
              "      <th>5</th>\n",
              "      <td>Hentai Hooligans</td>\n",
              "      <td>14</td>\n",
              "    </tr>\n",
              "    <tr>\n",
              "      <th>6</th>\n",
              "      <td>Izako Boars</td>\n",
              "      <td>54</td>\n",
              "    </tr>\n",
              "    <tr>\n",
              "      <th>7</th>\n",
              "      <td>ONCA Gaming</td>\n",
              "      <td>8</td>\n",
              "    </tr>\n",
              "    <tr>\n",
              "      <th>8</th>\n",
              "      <td>PACT</td>\n",
              "      <td>23</td>\n",
              "    </tr>\n",
              "    <tr>\n",
              "      <th>9</th>\n",
              "      <td>PRiDE</td>\n",
              "      <td>31</td>\n",
              "    </tr>\n",
              "    <tr>\n",
              "      <th>10</th>\n",
              "      <td>Sprout</td>\n",
              "      <td>31</td>\n",
              "    </tr>\n",
              "    <tr>\n",
              "      <th>11</th>\n",
              "      <td>Team Kinguin</td>\n",
              "      <td>68</td>\n",
              "    </tr>\n",
              "    <tr>\n",
              "      <th>12</th>\n",
              "      <td>fish123</td>\n",
              "      <td>8</td>\n",
              "    </tr>\n",
              "  </tbody>\n",
              "</table>\n",
              "</div>"
            ],
            "text/plain": [
              "       time_vencedor  round\n",
              "0        AGO Esports     28\n",
              "1    ALTERNATE aTTaX     14\n",
              "2       Animal Style      8\n",
              "3    EURONICS Gaming     32\n",
              "4           Endpoint     30\n",
              "5   Hentai Hooligans     14\n",
              "6        Izako Boars     54\n",
              "7        ONCA Gaming      8\n",
              "8               PACT     23\n",
              "9              PRiDE     31\n",
              "10            Sprout     31\n",
              "11      Team Kinguin     68\n",
              "12           fish123      8"
            ]
          },
          "metadata": {},
          "execution_count": 720
        }
      ]
    },
    {
      "cell_type": "markdown",
      "metadata": {
        "id": "VAw868l8cLkL"
      },
      "source": [
        "## 4 Figuras que mostrem insights sobre os dados com pandas e matplotlib"
      ]
    },
    {
      "cell_type": "code",
      "metadata": {
        "id": "ZrjxA5Jip87I"
      },
      "source": [
        "import matplotlib.pyplot as plt"
      ],
      "execution_count": null,
      "outputs": []
    },
    {
      "cell_type": "code",
      "metadata": {
        "colab": {
          "base_uri": "https://localhost:8080/",
          "height": 264
        },
        "id": "fqvmjUKGr4Bu",
        "outputId": "f0d609b3-0289-4f02-c33d-f0e5b02ff5b1"
      },
      "source": [
        "aux = csgo.groupby(['time_vencedor'])['round'].count().to_frame().reset_index().sort_values(by='time_vencedor')\n",
        "\n",
        "plt.pie(aux['round'], labels = aux['time_vencedor'], autopct='%1.i%%')\n",
        "\n",
        "plt.title('Vitórias de cada time')\n",
        "\n",
        "plt.show()"
      ],
      "execution_count": null,
      "outputs": [
        {
          "output_type": "display_data",
          "data": {
            "image/png": "[encoded data removed]",
            "text/plain": [
              "<Figure size 432x288 with 1 Axes>"
            ]
          },
          "metadata": {}
        }
      ]
    },
    {
      "cell_type": "code",
      "metadata": {
        "colab": {
          "base_uri": "https://localhost:8080/",
          "height": 295
        },
        "id": "0G8ncAAxuT1E",
        "outputId": "64434593-3c0c-45b8-a3f5-0163e75fdb98"
      },
      "source": [
        "aux2 = csgo[csgo['time_vencedor'] == 'Team Kinguin']\n",
        "\n",
        "plt.hist(aux2['mapa'])\n",
        "plt.xlabel('MAPAS')\n",
        "plt.ylabel('VITÓRIAS')\n",
        "plt.title('MAPAS ONDE A TEAM KINGUIN VENCEU')\n",
        "\n",
        "plt.show()"
      ],
      "execution_count": null,
      "outputs": [
        {
          "output_type": "display_data",
          "data": {
            "image/png": "[encoded data removed]",
            "text/plain": [
              "<Figure size 432x288 with 1 Axes>"
            ]
          },
          "metadata": {
            "needs_background": "light"
          }
        }
      ]
    },
    {
      "cell_type": "code",
      "metadata": {
        "colab": {
          "base_uri": "https://localhost:8080/",
          "height": 281
        },
        "id": "bQSQsSzHwuGy",
        "outputId": "6701e309-e2af-487d-c7a0-82d5bc54f3d2"
      },
      "source": [
        "csgo.boxplot(column=['$CounterTerrorist', '$Terrorist'])\n",
        "plt.title('DIAGRAMA DE CAIXA  DO DINHEIRO DOS T E CT')\n",
        "plt.show()"
      ],
      "execution_count": null,
      "outputs": [
        {
          "output_type": "display_data",
          "data": {
            "image/png": "[encoded data removed]",
            "text/plain": [
              "<Figure size 432x288 with 1 Axes>"
            ]
          },
          "metadata": {
            "needs_background": "light"
          }
        }
      ]
    },
    {
      "cell_type": "markdown",
      "metadata": {
        "id": "McM3BvfLzGCQ"
      },
      "source": [
        "## 5 Quebrar os dados em conjunto de treino e conjunto de teste"
      ]
    },
    {
      "cell_type": "code",
      "metadata": {
        "id": "nknglxlCLo4e"
      },
      "source": [
        "csgo['time_vencedor'] = pd.to_numeric(csgo['time_vencedor'].map({'AGO Esports': 0, 'ALTERNATE aTTaX': 1, 'Animal Style': 2, 'EURONICS Gaming': 3,\t'Endpoint': 4, 'Hentai Hooligans': 5, 'Izako Boars': 6, 'ONCA Gaming': 7, 'PACT': 8, 'PRiDE': 9, 'Sprout': 10, 'Team Kinguin': 11, 'fish123': 12}))"
      ],
      "execution_count": null,
      "outputs": []
    },
    {
      "cell_type": "code",
      "metadata": {
        "colab": {
          "base_uri": "https://localhost:8080/"
        },
        "id": "miVHSo5mzXLF",
        "outputId": "272d6e07-1091-4a68-d352-c0de5828679d"
      },
      "source": [
        "import numpy as np\n",
        "from sklearn.model_selection import train_test_split\n",
        "\n",
        "nomes_colunas = ['mapa', 'round', 'round_tipo', 'time_vencedor', '$CounterTerrorist', '$Terrorist']\n",
        "X = csgo[nomes_colunas].to_numpy()\n",
        "y = csgo['lado_vencedor'].to_numpy()\n",
        "\n",
        "X_train, X_test, y_train, y_test = train_test_split(X, y, test_size=0.20, random_state=123)\n",
        "\n",
        "print(f\"Tamanho de X_train: {X_train.shape}\")\n",
        "print(f\"Tamanho de X_test: {X_test.shape}\")\n",
        "print(f\"Tamanho de y_train: {y_train.shape}\")\n",
        "print(f\"Tamanho de y_test: {y_test.shape}\")"
      ],
      "execution_count": null,
      "outputs": [
        {
          "output_type": "stream",
          "name": "stdout",
          "text": [
            "Tamanho de X_train: (279, 6)\n",
            "Tamanho de X_test: (70, 6)\n",
            "Tamanho de y_train: (279,)\n",
            "Tamanho de y_test: (70,)\n"
          ]
        }
      ]
    },
    {
      "cell_type": "markdown",
      "metadata": {
        "id": "AdsglxtD0ULC"
      },
      "source": [
        "## 6 Treinar um estimador do scikit-learn de aprendizagem supervisionada (regressor ou classificador) no conjunto de treino"
      ]
    },
    {
      "cell_type": "code",
      "metadata": {
        "id": "N87LLFaY12rE"
      },
      "source": [
        "from sklearn.linear_model import LogisticRegression\n",
        "\n",
        "clf = LogisticRegression(n_jobs=-1, random_state=123)"
      ],
      "execution_count": null,
      "outputs": []
    },
    {
      "cell_type": "code",
      "metadata": {
        "colab": {
          "base_uri": "https://localhost:8080/"
        },
        "id": "oGAuD5yd17IM",
        "outputId": "618c3cee-97ea-4327-b5b7-c8dcad71f9f9"
      },
      "source": [
        "clf.fit(X_train, y_train)"
      ],
      "execution_count": null,
      "outputs": [
        {
          "output_type": "execute_result",
          "data": {
            "text/plain": [
              "LogisticRegression(n_jobs=-1, random_state=123)"
            ]
          },
          "metadata": {},
          "execution_count": 728
        }
      ]
    },
    {
      "cell_type": "markdown",
      "metadata": {
        "id": "Y6tJwdsi7Kjd"
      },
      "source": [
        "## 7 Verificar o desempenho do estimador do scikit-learn no conjunto de teste"
      ]
    },
    {
      "cell_type": "code",
      "metadata": {
        "colab": {
          "base_uri": "https://localhost:8080/"
        },
        "id": "BaaqGPFe7SRs",
        "outputId": "6c294feb-bb7b-4ce6-e279-7a4c2837a6cd"
      },
      "source": [
        "from sklearn.metrics import accuracy_score\n",
        "\n",
        "y_train_true = y_train\n",
        "y_train_pred = clf.predict(X_train)\n",
        "y_test_true = y_test\n",
        "y_test_pred = clf.predict(X_test)\n",
        "\n",
        "\n",
        "print(f\"Acurácia de Treino: {round(accuracy_score(y_train_true, y_train_pred), 2) * 100}%\")\n",
        "print('\\n ---------------------------\\n')\n",
        "print(f\"Acurácia de Teste: {round(accuracy_score(y_test_true, y_test_pred), 2) *100}%\")"
      ],
      "execution_count": null,
      "outputs": [
        {
          "output_type": "stream",
          "name": "stdout",
          "text": [
            "Acurácia de Treino: 66.0%\n",
            "\n",
            " ---------------------------\n",
            "\n",
            "Acurácia de Teste: 63.0%\n"
          ]
        }
      ]
    },
    {
      "cell_type": "code",
      "metadata": {
        "colab": {
          "base_uri": "https://localhost:8080/"
        },
        "id": "7KGA331-AH8I",
        "outputId": "fba53672-4057-4317-ea03-24cb6d6742d7"
      },
      "source": [
        "# Coeficientes do modelo\n",
        "for feature, coef in zip(nomes_colunas, clf.coef_[0].tolist()):\n",
        "    print(f\"{feature}: {round(coef,3)}\")\n",
        "\n",
        "# Constante do modelo\n",
        "print(f\"Constante: {clf.intercept_}\")"
      ],
      "execution_count": null,
      "outputs": [
        {
          "output_type": "stream",
          "name": "stdout",
          "text": [
            "mapa: -0.0\n",
            "round: 0.0\n",
            "round_tipo: -0.0\n",
            "time_vencedor: -0.0\n",
            "$CounterTerrorist: 0.0\n",
            "$Terrorist: -0.0\n",
            "Constante: [1.37706418e-10]\n"
          ]
        }
      ]
    }
  ]
}